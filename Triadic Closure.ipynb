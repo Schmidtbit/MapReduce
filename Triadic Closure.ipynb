{
 "cells": [
  {
   "cell_type": "markdown",
   "metadata": {},
   "source": [
    "# Triadic Closure Study\n",
    "\n",
    "in the `data` folder I have a file called `edges.txt` and `mini_edges.txt`. Both are text files with each row representing a user and friend pair. I am going to build a MapReduce job for making friend suggestions based on mutual friends. \n",
    "\n",
    "__Investigate data in `mini_edges.txt`__"
   ]
  },
  {
   "cell_type": "code",
   "execution_count": 20,
   "metadata": {},
   "outputs": [
    {
     "name": "stdout",
     "output_type": "stream",
     "text": [
      "0 1\n",
      "\n",
      "0 2\n",
      "\n",
      "0 5\n",
      "\n",
      "1 3\n",
      "\n",
      "1 4\n",
      "\n",
      "2 3\n",
      "\n",
      "2 4\n",
      "\n",
      "3 4\n",
      "\n",
      "4 5\n",
      "\n"
     ]
    }
   ],
   "source": [
    "with open('data/mini_edges.txt') as f:\n",
    "    for row in f.readlines():\n",
    "        print(row)"
   ]
  },
  {
   "cell_type": "markdown",
   "metadata": {},
   "source": [
    "## 1.  Write a MapReduce job that returns each user's list of friends\n",
    "\n",
    "__friends.py__\n",
    "\n",
    "```Python\n",
    "from mrjob.job import MRJob\n",
    "\n",
    "class friends_list(MRJob):\n",
    "\n",
    "    def mapper(self, _, line):\n",
    "        clean = [int(x) for x in line.strip().split(' ')]\n",
    "        f1 = clean[0]\n",
    "        f2 = clean[1]\n",
    "        yield (f1 ,f2)\n",
    "        yield (f2, f1)\n",
    "\n",
    "    def reducer(self, key, values):\n",
    "        f_list = list(values)\n",
    "        yield (key, f_list)\n",
    "\n",
    "if __name__ == '__main__':\n",
    "    friends_list.run()\n",
    "```\n",
    "\n",
    "Run the file in the terminal and abserve results. \n",
    "```bash\n",
    "\n",
    "python friends.py ../data/mini_edges.txt\n",
    "\n",
    "```\n",
    "The results look like this:\n",
    "\n",
    "```\n",
    "0   [1, 2, 5]\n",
    "1   [0, 3, 4]\n",
    "2   [0, 3, 4]\n",
    "3   [1, 2, 4]\n",
    "4   [1, 2, 3, 5]\n",
    "5   [0, 4]\n",
    "```"
   ]
  },
  {
   "cell_type": "markdown",
   "metadata": {},
   "source": [
    "## 2. Modify the script to return friend pairs for each user\n",
    "\n",
    "```Python\n",
    "from mrjob.job import MRJob, MRStep\n",
    "import itertools\n",
    "\n",
    "\n",
    "class friends_list(MRJob):\n",
    "\n",
    "    def mapper(self, _, line):\n",
    "        clean = [int(x) for x in line.strip().split(' ')]\n",
    "        f1 = clean[0]\n",
    "        f2 = clean[1]\n",
    "        yield (f1 ,f2)\n",
    "        yield (f2, f1)\n",
    "\n",
    "    def reducer(self, key, values):\n",
    "        f_list = list(values)\n",
    "        yield (key, f_list)\n",
    "\n",
    "    def mapper2(self, key, f_list):\n",
    "        pairs = itertools.combinations(f_list,2)\n",
    "        for i in pairs:\n",
    "                yield (i , 1)\n",
    "\n",
    "    def reducer2(self, key, values):\n",
    "        yield (key , sum(values))\n",
    "\n",
    "    def steps(self):\n",
    "        return [MRStep(mapper=self.mapper,\n",
    "        reducer=self.reducer),\n",
    "        MRStep(mapper=self.mapper2,\n",
    "        reducer=self.reducer2),]\n",
    "\n",
    "\n",
    "if __name__ == '__main__':\n",
    "    friends_list.run()\n",
    "```\n",
    "\n",
    "Run the file in the terminal and verify the results.\n",
    "```bash\n",
    "\n",
    "python fiends.py ../data/mini_edges.txt\n",
    "\n",
    "```"
   ]
  },
  {
   "cell_type": "markdown",
   "metadata": {},
   "source": [
    "The results look like this:\n",
    "\n",
    "```\n",
    "[1, 2]\t3\n",
    "[1, 3]\t1\n",
    "[1, 4]\t1\n",
    "[1, 5]\t2\n",
    "[2, 3]\t1\n",
    "[2, 4]\t1\n",
    "[2, 5]\t2\n",
    "[0, 3]\t2\n",
    "[0, 4]\t3\n",
    "[3, 4]\t2\n",
    "[3, 5]\t1\n",
    "```"
   ]
  },
  {
   "cell_type": "markdown",
   "metadata": {},
   "source": [
    "## 3. Remove pairs that are already friends"
   ]
  },
  {
   "cell_type": "markdown",
   "metadata": {},
   "source": [
    "Modify the `mapper2` and `reducer2` functions to discard any friend pairs that are already friends. \n",
    "\n",
    "```Python\n",
    "\n",
    "def mapper2(self, key, f_list):\n",
    "    pairs = itertools.combinations(f_list,2)\n",
    "    for i in pairs:\n",
    "        yield (i , 1)\n",
    "    # reassign friend-pair value to 0 if already friends\n",
    "    for f in f_list:\n",
    "        yield (key, f), 0\n",
    "\n",
    "def reducer2(self, key, values):\n",
    "    count = 0\n",
    "    for flag in values:\n",
    "        if flag == 0:\n",
    "            # if friend pair is already friends, discard\n",
    "            return\n",
    "        count+= flag\n",
    "    yield (key , count)\n",
    "    \n",
    "```\n",
    "\n",
    "\n",
    "Run the in the terminal again and observe the results.\n",
    "```bash\n",
    "\n",
    "python fiends.py ../data/mini_edges.txt \n",
    "\n",
    "```"
   ]
  },
  {
   "cell_type": "markdown",
   "metadata": {},
   "source": [
    "```\n",
    "[3, 5]\t1\n",
    "[1, 2]\t3\n",
    "[1, 5]\t2\n",
    "[0, 3]\t2\n",
    "[0, 4]\t3\n",
    "[2, 5]\t2\n",
    "```\n",
    "\n",
    "The output has potential friend-pairs and a count of how many friends the pair have in common."
   ]
  },
  {
   "cell_type": "markdown",
   "metadata": {},
   "source": [
    "## 4. Make Friend Recommendations"
   ]
  },
  {
   "cell_type": "markdown",
   "metadata": {},
   "source": [
    "Add another set of mapping and reducing functions that will make one friend recommendation for each user based on their mutual connections. \n",
    "\n",
    "```Python\n",
    "\n",
    "def mapper3(self, key, values):\n",
    "    # reformat the friend pairs and values\n",
    "    yield key[0], (key[1], values)\n",
    "    yield key[1], (key[0], values)\n",
    "\n",
    "def reducer3(self, key, values):\n",
    "    # recommend the user to friend the user with the most connections\n",
    "    f2 = max(values, key=lambda x : x[1])[0]\n",
    "    yield key, f2\n",
    "    \n",
    "\n",
    "```\n",
    "\n",
    "Run the in the terminal and observe the results.\n",
    "```bash\n",
    "\n",
    "python fiends.py ../data/mini_edges.txt\n",
    "\n",
    "```"
   ]
  },
  {
   "cell_type": "markdown",
   "metadata": {},
   "source": [
    "```\n",
    "...\n",
    "\n",
    "2864\t2877\n",
    "2865\t3255\n",
    "2866\t2694\n",
    "2867\t2966\n",
    "2868\t3291\n",
    "2869\t3434\n",
    "287\t 228\n",
    "2870\t2951\n",
    "2871\t2951\n",
    "2872\t2927\n",
    "\n",
    "...\n",
    "```"
   ]
  },
  {
   "cell_type": "markdown",
   "metadata": {},
   "source": [
    "## 5. Run on full set of data\n",
    "\n",
    "I saved the results in the `print_outs` folder in a text file `friend_suggestions.txt`\n",
    "\n",
    "```bash\n",
    "python fiends.py ../data/edges.txt > print_outs/friend_suggestions.txt\n",
    "```"
   ]
  },
  {
   "cell_type": "markdown",
   "metadata": {},
   "source": [
    "Query the results in the terminal using `grep`\n",
    "\n",
    "```bash\n",
    "grep '^2882' friend_suggestions.txt \n",
    "```\n",
    "\n",
    "The result will be:\n",
    "```\n",
    "2882\t2734\n",
    "```"
   ]
  }
 ],
 "metadata": {
  "kernelspec": {
   "display_name": "Python 3",
   "language": "python",
   "name": "python3"
  },
  "language_info": {
   "codemirror_mode": {
    "name": "ipython",
    "version": 3
   },
   "file_extension": ".py",
   "mimetype": "text/x-python",
   "name": "python",
   "nbconvert_exporter": "python",
   "pygments_lexer": "ipython3",
   "version": "3.6.4"
  }
 },
 "nbformat": 4,
 "nbformat_minor": 2
}
